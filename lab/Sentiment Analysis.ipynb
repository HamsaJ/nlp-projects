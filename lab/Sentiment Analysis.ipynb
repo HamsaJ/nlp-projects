{
 "cells": [
  {
   "cell_type": "code",
   "execution_count": 2,
   "metadata": {},
   "outputs": [
    {
     "name": "stdout",
     "output_type": "stream",
     "text": [
      "[{'label': 'NEGATIVE', 'score': 0.9993980526924133}]\n",
      "[{'label': 'POSITIVE', 'score': 0.9998494386672974}]\n",
      "[{'label': 'POSITIVE', 'score': 0.999744176864624}]\n"
     ]
    }
   ],
   "source": [
    "from transformers import pipeline, BertTokenizer, BertModel, BertForNextSentencePrediction, BertConfig\n",
    "\n",
    "\n",
    "# Text classification - sentiment analysis\n",
    "nlp = pipeline(\"sentiment-analysis\")\n",
    "\n",
    "print(nlp(\"I am not happy about the Apple website opening in India\"))\n",
    "print(nlp(\"I am happy about the Apple website opening in India\"))\n",
    "print(nlp(\"I am okay with Apple website opening in India\"))"
   ]
  },
  {
   "cell_type": "code",
   "execution_count": null,
   "metadata": {},
   "outputs": [],
   "source": []
  }
 ],
 "metadata": {
  "kernelspec": {
   "display_name": "Python 3",
   "language": "python",
   "name": "python3"
  },
  "language_info": {
   "codemirror_mode": {
    "name": "ipython",
    "version": 3
   },
   "file_extension": ".py",
   "mimetype": "text/x-python",
   "name": "python",
   "nbconvert_exporter": "python",
   "pygments_lexer": "ipython3",
   "version": "3.8.5"
  }
 },
 "nbformat": 4,
 "nbformat_minor": 4
}
