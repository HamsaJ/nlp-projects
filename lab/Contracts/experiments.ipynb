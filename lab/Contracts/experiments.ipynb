{
 "cells": [
  {
   "cell_type": "code",
   "execution_count": 1,
   "metadata": {},
   "outputs": [],
   "source": [
    "import pdfminer"
   ]
  },
  {
   "cell_type": "code",
   "execution_count": 2,
   "metadata": {},
   "outputs": [],
   "source": [
    "from pdfminer.high_level import extract_text\n",
    " \n",
    "msa1 = extract_text(\"data/msa1.pdf\")\n",
    "msa2 = extract_text(\"data/msa2.pdf\")\n",
    "msa3 = extract_text(\"data/msa3.pdf\")\n",
    "msa4 = extract_text(\"data/msa4.pdf\")\n",
    "\n",
    "ssa1 = extract_text(\"data/ssa1.pdf\")\n",
    "ssa2 = extract_text(\"data/ssa2.pdf\")\n",
    "ssa3 = extract_text(\"data/ssa3.pdf\")\n",
    "ssa4 = extract_text(\"data/ssa4.pdf\")"
   ]
  },
  {
   "cell_type": "code",
   "execution_count": 3,
   "metadata": {},
   "outputs": [],
   "source": [
    "from transformers import pipeline, BertTokenizer, BertModel, BertForNextSentencePrediction, BertConfig\n",
    "import torch"
   ]
  },
  {
   "cell_type": "code",
   "execution_count": 5,
   "metadata": {},
   "outputs": [
    {
     "name": "stdout",
     "output_type": "stream",
     "text": [
      "INC\\.?|L.P\\.?|L. P.\\.?|LLP\\.?|LLLP\\.?|Corp\n"
     ]
    }
   ],
   "source": [
    "import re \n",
    "\n",
    "suffixlist = ['INC', 'L.P', 'L. P.', 'LLP', 'LLLP', 'Corp']\n",
    "\n",
    "suffixes = '\\.?|'.join([suffix for suffix in suffixlist])\n",
    "print(suffixes)"
   ]
  },
  {
   "cell_type": "code",
   "execution_count": 6,
   "metadata": {},
   "outputs": [
    {
     "data": {
      "text/plain": [
       "'INC\\\\.?|L.P\\\\.?|L. P.\\\\.?|LLP\\\\.?|LLLP\\\\.?|Corp'"
      ]
     },
     "execution_count": 6,
     "metadata": {},
     "output_type": "execute_result"
    }
   ],
   "source": [
    "suffixes"
   ]
  },
  {
   "cell_type": "code",
   "execution_count": 73,
   "metadata": {},
   "outputs": [
    {
     "data": {
      "text/plain": [
       "re.compile(r'(?!Master Service Agreement|.+MASTER SERVICE AGREEMENT -)(^.+(Incorporated|L\\.?\\s?P\\.?|INC\\.?|LLP\\.?|LLLP\\.?|\\x08Corp\\.?\\x08))',\n",
       "re.MULTILINE|re.UNICODE)"
      ]
     },
     "execution_count": 73,
     "metadata": {},
     "output_type": "execute_result"
    }
   ],
   "source": [
    "import re \n",
    "\n",
    "reg_pattern1 = \"(?!Master Service Agreement|.+MASTER SERVICE AGREEMENT -)(^.+(Incorporated|L\\.?\\s?P\\.?|INC\\.?|LLP\\.?|LLLP\\.?|\\bCorp\\.?\\b))\"\n",
    "\n",
    "# reg_pattern2 = '''(Master Service Agreement\\s?)(-\\s)(.+(Incorporated|L\\.?\\s?P\\.?|INC\\.?|LLP\\.?|LLLP\\.?|\\bCorp\\.?\\b))'''\n",
    "\n",
    "pattern1 = re.compile(reg_pattern1, re.M)\n",
    "# pattern2 = re.compile(reg_pattern2)\n",
    "pattern1"
   ]
  },
  {
   "cell_type": "code",
   "execution_count": 74,
   "metadata": {},
   "outputs": [],
   "source": [
    "matches = pattern1.findall(msa1[0:1000])"
   ]
  },
  {
   "cell_type": "code",
   "execution_count": 76,
   "metadata": {},
   "outputs": [
    {
     "name": "stdout",
     "output_type": "stream",
     "text": [
      "('BRIGHTSOURCE CONSTRUCTION MANAGEMENT, INC.', 'INC.')\n",
      "('CHEVRON TECHNOLOGY VENTURES, A DIVISION of CHEVRON U.S.A. INC.', 'INC.')\n"
     ]
    }
   ],
   "source": [
    "for match in matches:\n",
    "    print(match)"
   ]
  },
  {
   "cell_type": "code",
   "execution_count": 77,
   "metadata": {},
   "outputs": [],
   "source": [
    "matches2 = pattern1.findall(msa2[0:1000])"
   ]
  },
  {
   "cell_type": "code",
   "execution_count": 83,
   "metadata": {},
   "outputs": [
    {
     "name": "stdout",
     "output_type": "stream",
     "text": [
      "('ICON Clinical Research, L. P.', 'L. P.')\n",
      "('Corcept Therapeutics Incorporated', 'Incorporated')\n"
     ]
    }
   ],
   "source": [
    "for match in matches2:\n",
    "    print(match)"
   ]
  },
  {
   "cell_type": "code",
   "execution_count": 84,
   "metadata": {},
   "outputs": [],
   "source": [
    "matches3 = pattern1.findall(msa3[0:1000])"
   ]
  },
  {
   "cell_type": "code",
   "execution_count": 85,
   "metadata": {},
   "outputs": [],
   "source": [
    "for match in matches3:\n",
    "    print(match)"
   ]
  },
  {
   "cell_type": "code",
   "execution_count": 86,
   "metadata": {},
   "outputs": [],
   "source": [
    "matches4 = pattern1.findall(msa4[0:1000])"
   ]
  },
  {
   "cell_type": "code",
   "execution_count": 87,
   "metadata": {},
   "outputs": [],
   "source": [
    "for match in matches4:\n",
    "    print(match)"
   ]
  },
  {
   "cell_type": "code",
   "execution_count": 88,
   "metadata": {},
   "outputs": [
    {
     "name": "stdout",
     "output_type": "stream",
     "text": [
      "Master Service Agreement\n",
      "\n",
      "EX-10.21 3 dex1021.htm MASTER SERVICE AGREEMENT\n",
      "\n",
      "MASTER SERVICES AGREEMENT\n",
      "\n",
      "Exhibit 10.21\n",
      "\n",
      "THIS MASTER SERVICES AGREEMENT (the “MSA”), effective as of January 01, 2005 (the “Effective Date”), is\n",
      "\n",
      "made and entered into by and between ProQuest Company, a Delaware corporation having its principal offices at 300 North\n",
      "Zeeb Road, Ann Arbor, MI 48106 (“Client Parent”), and International Business Machines Corporation, a New York\n",
      "corporation having its principal offices at Route 100, Somers, New York 10589 (“Supplier Parent”).\n",
      " \n",
      "\n",
      "RECITALS\n",
      "\n",
      "WHEREAS, Client Parent and Supplier Parent have engaged in extensive negotiations, discussions and due diligence\n",
      "\n",
      "that have culminated in the formation of the contractual relationship described in this MSA; and\n",
      " \n",
      "\n",
      "WHEREAS, Client Parent desires to procure from Supplier Parent, and Supplier Parent desires to provide to Client\n",
      "Parent, the information technology products and services described in this MSA and in Service Agreements ente\n"
     ]
    }
   ],
   "source": [
    "print(msa3[0:1000])"
   ]
  },
  {
   "cell_type": "code",
   "execution_count": 147,
   "metadata": {},
   "outputs": [],
   "source": [
    "reg_pattern2 = r\"(entered into by and between\\s|\\band\\b\\s|between\\s)(.+(Incorporated|L\\.?\\s?P\\.?|Inc\\.|INC\\.?|LLP\\.?|LLLP\\.?|\\bCompany\\b|Corporation|\\bCorp\\.?\\b))\"\n",
    "pattern2 = re.compile(reg_pattern2, re.M)"
   ]
  },
  {
   "cell_type": "code",
   "execution_count": 148,
   "metadata": {},
   "outputs": [],
   "source": [
    "matches3 = pattern2.findall(msa3[0:1000], re.M)"
   ]
  },
  {
   "cell_type": "code",
   "execution_count": 149,
   "metadata": {},
   "outputs": [
    {
     "name": "stdout",
     "output_type": "stream",
     "text": [
      "('and ', 'entered into by and between ProQuest Company', 'Company')\n",
      "('and ', 'International Business Machines Corporation', 'Corporation')\n"
     ]
    }
   ],
   "source": [
    "for match in matches3:\n",
    "    print(match)"
   ]
  },
  {
   "cell_type": "code",
   "execution_count": 143,
   "metadata": {},
   "outputs": [
    {
     "name": "stdout",
     "output_type": "stream",
     "text": [
      "Master Service Agreement\n",
      "\n",
      "EX-10.21 3 dex1021.htm MASTER SERVICE AGREEMENT\n",
      "\n",
      "MASTER SERVICES AGREEMENT\n",
      "\n",
      "Exhibit 10.21\n",
      "\n",
      "THIS MASTER SERVICES AGREEMENT (the “MSA”), effective as of January 01, 2005 (the “Effective Date”), is\n",
      "\n",
      "made and entered into by and between ProQuest Company, a Delaware corporation having its principal offices at 300 North\n",
      "Zeeb Road, Ann Arbor, MI 48106 (“Client Parent”), and International Business Machines Corporation, a New York\n",
      "corporation having its principal offices at Route 100, Somers, New York 10589 (“Supplier Parent”).\n",
      " \n",
      "\n",
      "RECITALS\n",
      "\n",
      "WHEREAS, Client Parent and Supplier Parent have engaged in extensive negotiations, discussions and due diligence\n",
      "\n",
      "that have culminated in the formation of the contractual relationship described in this MSA; and\n",
      " \n",
      "\n",
      "WHEREAS, Client Parent desires to procure from Supplier Parent, and Supplier Parent desires to provide to Client\n",
      "Parent, the information technology products and services described in this MSA and in Service Agreements ente\n"
     ]
    }
   ],
   "source": [
    "print(msa3[0:1000])"
   ]
  },
  {
   "cell_type": "code",
   "execution_count": 151,
   "metadata": {},
   "outputs": [
    {
     "name": "stderr",
     "output_type": "stream",
     "text": [
      "[nltk_data] Downloading package punkt to /Users/jama/nltk_data...\n",
      "[nltk_data]   Package punkt is already up-to-date!\n",
      "[nltk_data] Downloading package wordnet to /Users/jama/nltk_data...\n",
      "[nltk_data]   Package wordnet is already up-to-date!\n"
     ]
    },
    {
     "data": {
      "text/plain": [
       "['entered', 'into', 'by', 'and', 'between']"
      ]
     },
     "execution_count": 151,
     "metadata": {},
     "output_type": "execute_result"
    }
   ],
   "source": [
    "import nltk\n",
    "from nltk.corpus import stopwords\n",
    "\n",
    "nltk.download('punkt')\n",
    "stop_words = set(stopwords.words('english')) \n",
    "\n",
    "sentence = 'entered into by and between'\n",
    "\n",
    "# from: https://scikit-learn.org/stable/modules/feature_extraction.html\n",
    "\n",
    "from nltk import word_tokenize          \n",
    "from nltk.stem import WordNetLemmatizer\n",
    "\n",
    "class LemmaTokenizer:\n",
    "    \"\"\"\n",
    "    Interface to the WordNet lemmatizer from nltk\n",
    "    \"\"\"\n",
    "    ignore_tokens = [',', '.', ';', ':', '\"', '``', \"''\", '`']\n",
    "    def __init__(self):\n",
    "        self.wnl = WordNetLemmatizer()\n",
    "    def __call__(self, doc):\n",
    "        return [self.wnl.lemmatize(t) for t in word_tokenize(doc) if t not in self.ignore_tokens]\n",
    "    \n",
    "# Demonstrate the job of the tokenizer\n",
    "nltk.download('wordnet')\n",
    "tokenizer=LemmaTokenizer()\n",
    "\n",
    "tokenizer(sentence)"
   ]
  },
  {
   "cell_type": "code",
   "execution_count": 152,
   "metadata": {},
   "outputs": [],
   "source": [
    "from nltk.stem import PorterStemmer"
   ]
  },
  {
   "cell_type": "code",
   "execution_count": 154,
   "metadata": {},
   "outputs": [
    {
     "name": "stdout",
     "output_type": "stream",
     "text": [
      "entered:enter\n",
      "into:into\n",
      "word :  into TRUE\n",
      "by:by\n",
      "word :  by TRUE\n",
      "and:and\n",
      "word :  and TRUE\n",
      "between:between\n",
      "word :  between TRUE\n"
     ]
    }
   ],
   "source": [
    "from nltk.tokenize import word_tokenize\n",
    "ps = PorterStemmer()\n",
    "\n",
    "words = word_tokenize(sentence)\n",
    "\n",
    "for word in words:\n",
    "    print(word + \":\" + ps.stem(word))\n",
    "    if word in stop_words:\n",
    "        print(\"word : \", word, \"TRUE\")"
   ]
  },
  {
   "cell_type": "code",
   "execution_count": null,
   "metadata": {},
   "outputs": [],
   "source": []
  }
 ],
 "metadata": {
  "kernelspec": {
   "display_name": "Python 3",
   "language": "python",
   "name": "python3"
  },
  "language_info": {
   "codemirror_mode": {
    "name": "ipython",
    "version": 3
   },
   "file_extension": ".py",
   "mimetype": "text/x-python",
   "name": "python",
   "nbconvert_exporter": "python",
   "pygments_lexer": "ipython3",
   "version": "3.8.5"
  }
 },
 "nbformat": 4,
 "nbformat_minor": 4
}
