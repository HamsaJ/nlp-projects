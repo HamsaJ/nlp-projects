{
 "cells": [
  {
   "cell_type": "code",
   "execution_count": 1,
   "metadata": {},
   "outputs": [],
   "source": [
    "from haystack import Finder\n",
    "from haystack.preprocessor.cleaning import clean_wiki_text\n",
    "from haystack.preprocessor.utils import convert_files_to_dicts, fetch_archive_from_http\n",
    "from haystack.reader.farm import FARMReader\n",
    "from haystack.reader.transformers import TransformersReader\n",
    "from haystack.utils import print_answers"
   ]
  },
  {
   "cell_type": "code",
   "execution_count": 3,
   "metadata": {},
   "outputs": [
    {
     "name": "stderr",
     "output_type": "stream",
     "text": [
      "09/26/2020 16:11:17 - INFO - faiss -   Loading faiss.\n",
      "09/26/2020 16:11:17 - INFO - elasticsearch -   HEAD http://localhost:9200/document [status:200 request:0.026s]\n",
      "09/26/2020 16:11:17 - INFO - elasticsearch -   HEAD http://localhost:9200/label [status:200 request:0.002s]\n"
     ]
    }
   ],
   "source": [
    "from haystack.document_store.elasticsearch import ElasticsearchDocumentStore\n",
    "from haystack.document_store.faiss import FAISSDocumentStore\n",
    "\n",
    "# document_store_faiss = FAISSDocumentStore(sql_url = \"sqlite:///\",        # SQL DB for text + meta data\n",
    "#                                    vector_size = 768)\n",
    "document_store = ElasticsearchDocumentStore(host=\"localhost\", username=\"\", password=\"\", index=\"document\")\n"
   ]
  },
  {
   "cell_type": "code",
   "execution_count": 4,
   "metadata": {},
   "outputs": [
    {
     "name": "stderr",
     "output_type": "stream",
     "text": [
      "09/26/2020 16:11:34 - INFO - haystack.preprocessor.utils -   Found data stored in `data/article_txt_got`. Delete this first if you really want to fetch new data.\n"
     ]
    },
    {
     "name": "stdout",
     "output_type": "stream",
     "text": [
      "[{'text': \"Linda Antonsson and Elio García at Archipelacon on June 28, 2015.\\n'''Elio Miguel García Jr.''' (born May 6, 1978) and '''Linda Maria Antonsson''' (born November 18, 1974) are authors known for their contributions and expertise in the ''A Song of Ice and Fire'' series by George R. R. Martin, co-writing in 2014 with Martin ''The World of Ice & Fire'', a companion book for the series. They are also the founders of the fansite Westeros.org, one of the earliest fan websites for ''A Song of Ice and Fire''.\", 'meta': {'name': '145_Elio_M._García_Jr._and_Linda_Antonsson.txt'}}, {'text': '\\n==Career==\\nElio García was attending the University of Miami, while his partner Linda Antonsson was living in Sweden. At that time, in 1996, Antonsson introduced García to the \\'\\'A Song of Ice and Fire\\'\\' book series when it came out on paperback. After the second book, \\'\\'A Clash of Kings\\'\\', was released, they decided to create a forum for discussion of the series, creating an early iteration of Westeros.org, and later expanded it as the series became more popular. As of 2016, Westeros.org had more than 100,000 registered members.\\nGarcía and Antonsson have communicated closely with George R. R. Martin, serving sometimes as fact checkers and researchers of the \\'\\'A Song of Ice and Fire\\'\\' universe. They first approached Martin when they had the desire to create a game based on the series, seeking his permission, and created Westeros.org as an information source about how to play the game, titled \"Blood of Dragons\", but it transformed to become more encompassing of the entire series as a whole, with discussion forums, news, and a Wiki.\\nAround 2000, when \\'\\'A Storm of Swords\\'\\' was published, García and Antonsson began compiling a concordance of facts and details about Westeros, which they sent to Martin, leading him to state that they knew more about Westeros than he did. During the writing of the series\\' fourth book, \\'\\'A Feast for Crows\\'\\', the couple became a regular fact checker for details regarding the series\\' many characters and locations.\\nAfter meeting with Martin in person in Santa Fe, New Mexico, the pair was approached by Martin to co-author a book titled \\'\\'The World of Ice & Fire\\'\\', a companion book which focuses primarily on the history of the Targaryen family, one of the main families presented in the books. The book is written from the point of view that it is a scholarly work of a maester at the Citadel, the main center of knowledge in the world of Westeros. They work together from their home in Nödinge-Nol, near Gothenburg, Sweden.\\nAntonsson has stated that they never contribute to the main series of books on a story level, rather about setting details and continuity details. In addition to writing, Antonsson has also done English to Swedish translating, including for \\'\\'Game of Thrones\\'\\'.\\nThe pair provided episode recaps, analysis and video commentary for each episode of Game of Thrones on westeros.org, but as the television series surpassed the book series, they have become critics of many of the show\\'s plot conveniences, in their view, and \"clichés\"; following the 6th season of the program, Garcia announced that he would no longer be watching the show, after which Antonsson began doing the episode reviews and commentary alone.', 'meta': {'name': '145_Elio_M._García_Jr._and_Linda_Antonsson.txt'}}, {'text': \"\\n==Personal life==\\nGarcía and Antonsson met in 1995 while playing a game based on ''The Lord of the Rings'' over the internet. They were married in 2014, the same day that ''The World of Ice & Fire'' was released, 16 years after the couple had become engaged. García moved to Sweden in 1999, where the couple now lives in Nödinge, Ale Municipality.\", 'meta': {'name': '145_Elio_M._García_Jr._and_Linda_Antonsson.txt'}}]\n"
     ]
    }
   ],
   "source": [
    "# Let's first fetch some documents that we want to query\n",
    "# Here: 517 Wikipedia articles for Game of Thrones\n",
    "doc_dir = \"data/10k-txt\"\n",
    "s3_url = \"https://s3.eu-central-1.amazonaws.com/deepset.ai-farm-qa/datasets/documents/wiki_gameofthrones_txt.zip\"\n",
    "fetch_archive_from_http(url=s3_url, output_dir=doc_dir)\n",
    "\n",
    "# Convert files to dicts\n",
    "# You can optionally supply a cleaning function that is applied to each doc (e.g. to remove footers)\n",
    "# It must take a str as input, and return a str.\n",
    "dicts = convert_files_to_dicts(dir_path=doc_dir, clean_func=clean_wiki_text, split_paragraphs=True)\n",
    "\n",
    "# We now have a list of dictionaries that we can write to our document store.\n",
    "# If your texts come from a different source (e.g. a DB), you can of course skip convert_files_to_dicts() and create the dictionaries yourself.\n",
    "# The default format here is:\n",
    "# {\n",
    "#    'text': \"<DOCUMENT_TEXT_HERE>\",\n",
    "#    'meta': {'name': \"<DOCUMENT_NAME_HERE>\", ...}\n",
    "#}\n",
    "# (Optionally: you can also add more key-value-pairs here, that will be indexed as fields in Elasticsearch and\n",
    "# can be accessed later for filtering or shown in the responses of the Finder)\n",
    "\n",
    "# Let's have a look at the first 3 entries:\n",
    "print(dicts[:3])\n",
    "\n",
    "# Now, let's write the dicts containing documents to our DB.\n",
    "document_store.write_documents(dicts)"
   ]
  },
  {
   "cell_type": "code",
   "execution_count": 9,
   "metadata": {},
   "outputs": [],
   "source": [
    "from haystack.retriever.sparse import ElasticsearchRetriever\n",
    "from haystack.retriever.dense import DensePassageRetriever\n",
    "from haystack.retriever.base import BaseRetriever\n",
    "\n",
    "retriever = ElasticsearchRetriever(document_store=document_store)"
   ]
  },
  {
   "cell_type": "code",
   "execution_count": 10,
   "metadata": {},
   "outputs": [
    {
     "name": "stderr",
     "output_type": "stream",
     "text": [
      "09/26/2020 16:18:39 - INFO - farm.utils -   device: cpu n_gpu: 0, distributed training: False, automatic mixed precision training: None\n",
      "09/26/2020 16:18:39 - INFO - farm.infer -   Could not find `bert-large-uncased-whole-word-masking-finetuned-squad` locally. Try to download from model hub ...\n",
      "09/26/2020 16:18:46 - WARNING - farm.modeling.language_model -   Could not automatically detect from language model name what language it is. \n",
      "\t We guess it's an *ENGLISH* model ... \n",
      "\t If not: Init the language model by supplying the 'language' param.\n",
      "09/26/2020 16:18:55 - WARNING - farm.modeling.prediction_head -   Some unused parameters are passed to the QuestionAnsweringHead. Might not be a problem. Params: {\"loss_ignore_index\": -1}\n",
      "09/26/2020 16:18:56 - INFO - farm.utils -   device: cpu n_gpu: 0, distributed training: False, automatic mixed precision training: None\n",
      "09/26/2020 16:18:56 - INFO - farm.infer -   Got ya 7 parallel workers to do inference ...\n",
      "09/26/2020 16:18:56 - INFO - farm.infer -    0    0    0    0    0    0    0 \n",
      "09/26/2020 16:18:56 - INFO - farm.infer -   /w\\  /w\\  /w\\  /w\\  /w\\  /w\\  /w\\\n",
      "09/26/2020 16:18:56 - INFO - farm.infer -   /'\\  / \\  /'\\  /'\\  / \\  / \\  /'\\\n",
      "09/26/2020 16:18:56 - INFO - farm.infer -               \n"
     ]
    }
   ],
   "source": [
    "reader = FARMReader(model_name_or_path=\"deepset/bert-large-uncased-whole-word-masking-squad2\", use_gpu=False)\n",
    "finder = Finder(reader, retriever)"
   ]
  },
  {
   "cell_type": "code",
   "execution_count": 14,
   "metadata": {},
   "outputs": [
    {
     "name": "stderr",
     "output_type": "stream",
     "text": [
      "09/26/2020 16:19:35 - INFO - elasticsearch -   POST http://localhost:9200/document/_search [status:200 request:0.009s]\n",
      "09/26/2020 16:19:35 - INFO - haystack.retriever.sparse -   Got 1 candidates from retriever\n",
      "09/26/2020 16:19:35 - INFO - haystack.finder -   Reader is looking for detailed answer in 868 chars ...\n",
      "Inferencing Samples: 100%|██████████| 1/1 [00:00<00:00,  1.17 Batches/s]\n"
     ]
    }
   ],
   "source": [
    "prediction = finder.get_answers(question=\"Who is the father of Arya Stark?\", top_k_retriever=1, top_k_reader=1)"
   ]
  },
  {
   "cell_type": "code",
   "execution_count": 15,
   "metadata": {},
   "outputs": [
    {
     "data": {
      "text/plain": [
       "{'question': 'Who is the father of Arya Stark?',\n",
       " 'no_ans_gap': 13.233774662017822,\n",
       " 'answers': [{'answer': 'Robb',\n",
       "   'score': 7.357494831085205,\n",
       "   'probability': 0.7149782957253283,\n",
       "   'context': 'allow the army to cross the river and to commit his troops in return for Robb and Arya Stark marrying two of his children.\\nTyrion Lannister suspects h',\n",
       "   'offset_start': 73,\n",
       "   'offset_end': 77,\n",
       "   'offset_start_in_doc': 193,\n",
       "   'offset_end_in_doc': 197,\n",
       "   'document_id': '111ec714-331e-46d6-9421-705d1a1bf3c4',\n",
       "   'meta': {'name': '450_Baelor.txt'}}]}"
      ]
     },
     "execution_count": 15,
     "metadata": {},
     "output_type": "execute_result"
    }
   ],
   "source": [
    "prediction"
   ]
  },
  {
   "cell_type": "code",
   "execution_count": 13,
   "metadata": {},
   "outputs": [
    {
     "name": "stdout",
     "output_type": "stream",
     "text": [
      "[   {   'answer': 'Lord Eddard Stark',\n",
      "        'context': 'ark daughters.\\n'\n",
      "                   'During the Tourney of the Hand to honour her father Lord '\n",
      "                   'Eddard Stark, Sansa Stark is enchanted by the knights '\n",
      "                   'performing in the event.'},\n",
      "    {   'answer': 'Lord Eddard Stark',\n",
      "        'context': 'ark daughters.\\n'\n",
      "                   'During the Tourney of the Hand to honour her father Lord '\n",
      "                   'Eddard Stark, Sansa Stark is enchanted by the knights '\n",
      "                   'performing in the event.'},\n",
      "    {   'answer': 'Ned',\n",
      "        'context': 'rya to reveal her true identity, and is surprised to learn '\n",
      "                   \"she is in fact Ned Stark's daughter. After the Goldcloaks \"\n",
      "                   'get help from Ser Amory Lorch and'},\n",
      "    {   'answer': 'Ned',\n",
      "        'context': 'rya to reveal her true identity, and is surprised to learn '\n",
      "                   \"she is in fact Ned Stark's daughter. After the Goldcloaks \"\n",
      "                   'get help from Ser Amory Lorch and'},\n",
      "    {   'answer': 'Ned Stark',\n",
      "        'context': ' to reveal her true identity, and is surprised to learn '\n",
      "                   \"she is in fact Ned Stark's daughter. After the Goldcloaks \"\n",
      "                   'get help from Ser Amory Lorch and hi'}]\n"
     ]
    }
   ],
   "source": [
    "print_answers(prediction, details=\"minimal\")"
   ]
  },
  {
   "cell_type": "code",
   "execution_count": 10,
   "metadata": {},
   "outputs": [],
   "source": [
    "import requests"
   ]
  },
  {
   "cell_type": "code",
   "execution_count": 11,
   "metadata": {},
   "outputs": [],
   "source": [
    "res = requests.get('https://www.sec.gov/Archives/edgar/data/0000320193/000032019319000119/a10-k20199282019.htm')"
   ]
  },
  {
   "cell_type": "code",
   "execution_count": 14,
   "metadata": {},
   "outputs": [],
   "source": [
    "from bs4 import BeautifulSoup\n",
    "soup = BeautifulSoup(res.text, 'html.parser')\n",
    "\n",
    "import re\n",
    "\n",
    "clean_text = re.sub('\\s+', ' ', soup.text)\n"
   ]
  },
  {
   "cell_type": "code",
   "execution_count": 15,
   "metadata": {},
   "outputs": [],
   "source": [
    "dicts = [\n",
    "    {\n",
    "        'text': clean_text,\n",
    "        'meta': {'name': 'doc1'}\n",
    "    }\n",
    "]"
   ]
  },
  {
   "cell_type": "code",
   "execution_count": 16,
   "metadata": {},
   "outputs": [
    {
     "name": "stderr",
     "output_type": "stream",
     "text": [
      "09/25/2020 20:10:42 - INFO - elasticsearch -   POST http://localhost:9200/_bulk?refresh=wait_for [status:200 request:1.037s]\n"
     ]
    }
   ],
   "source": [
    "document_store.write_documents(dicts)"
   ]
  },
  {
   "cell_type": "code",
   "execution_count": 17,
   "metadata": {},
   "outputs": [
    {
     "name": "stderr",
     "output_type": "stream",
     "text": [
      "09/25/2020 20:12:37 - INFO - elasticsearch -   POST http://localhost:9200/document/_search [status:200 request:0.019s]\n",
      "09/25/2020 20:12:37 - INFO - haystack.retriever.sparse -   Got 10 candidates from retriever\n",
      "09/25/2020 20:12:37 - INFO - haystack.finder -   Reader is looking for detailed answer in 274487 chars ...\n",
      "Inferencing Samples: 100%|██████████| 10/10 [08:12<00:00, 49.23s/ Batches]\n",
      "Inferencing Samples: 100%|██████████| 1/1 [00:00<00:00,  1.08 Batches/s]\n",
      "Inferencing Samples: 100%|██████████| 1/1 [00:00<00:00,  1.11 Batches/s]\n",
      "Inferencing Samples: 100%|██████████| 1/1 [00:00<00:00,  1.06 Batches/s]\n",
      "Inferencing Samples: 100%|██████████| 1/1 [00:00<00:00,  1.05 Batches/s]\n",
      "Inferencing Samples: 100%|██████████| 1/1 [00:04<00:00,  4.47s/ Batches]\n",
      "Inferencing Samples: 100%|██████████| 1/1 [00:04<00:00,  4.42s/ Batches]\n",
      "Inferencing Samples: 100%|██████████| 1/1 [00:01<00:00,  1.12s/ Batches]\n",
      "Inferencing Samples: 100%|██████████| 1/1 [00:01<00:00,  1.04s/ Batches]\n",
      "Inferencing Samples: 100%|██████████| 1/1 [00:05<00:00,  5.27s/ Batches]\n"
     ]
    }
   ],
   "source": [
    "prediction = finder.get_answers(question=\"What is the federal income tax rate?\", top_k_retriever=10, top_k_reader=5)"
   ]
  },
  {
   "cell_type": "code",
   "execution_count": 18,
   "metadata": {},
   "outputs": [
    {
     "name": "stdout",
     "output_type": "stream",
     "text": [
      "[   {   'answer': '24.5% 35.0%',\n",
      "        'context': 'ctive tax rate15.9% 18.3% 24.6%Statutory federal income '\n",
      "                   'tax rate21.0% 24.5% 35.0%On December 22, 2017, the U.S. '\n",
      "                   'enacted the Tax Cuts and Jobs Act (the'},\n",
      "    {   'answer': '21%',\n",
      "        'context': ' lowered the Company’s U.S. statutory federal income tax '\n",
      "                   'rate from 35% to 21% effective January 1, 2018, while also '\n",
      "                   'imposing a deemed repatriation tax'},\n",
      "    {   'answer': '21.0%',\n",
      "        'context': '5,738Effective tax rate15.9% 18.3% 24.6%Statutory federal '\n",
      "                   'income tax rate21.0% 24.5% 35.0%On December 22, 2017, the '\n",
      "                   'U.S. enacted the Tax Cuts and Jobs'},\n",
      "    {   'answer': 'about a page of art for each page of text',\n",
      "        'context': 'tory and atmosphere of the novel closely, at a rate of '\n",
      "                   'about a page of art for each page of text, and was '\n",
      "                   'projected to cover 24 issues of 29 pages eac'},\n",
      "    {   'answer': 'about a page of art for each page of text',\n",
      "        'context': 'tory and atmosphere of the novel closely, at a rate of '\n",
      "                   'about a page of art for each page of text, and was '\n",
      "                   'projected to cover 24 issues of 29 pages eac'}]\n"
     ]
    }
   ],
   "source": [
    "print_answers(prediction, details=\"minimal\")"
   ]
  },
  {
   "cell_type": "code",
   "execution_count": 20,
   "metadata": {},
   "outputs": [],
   "source": [
    "from haystack.document_store"
   ]
  },
  {
   "cell_type": "code",
   "execution_count": null,
   "metadata": {},
   "outputs": [],
   "source": []
  }
 ],
 "metadata": {
  "kernelspec": {
   "display_name": "Python 3",
   "language": "python",
   "name": "python3"
  },
  "language_info": {
   "codemirror_mode": {
    "name": "ipython",
    "version": 3
   },
   "file_extension": ".py",
   "mimetype": "text/x-python",
   "name": "python",
   "nbconvert_exporter": "python",
   "pygments_lexer": "ipython3",
   "version": "3.8.5"
  }
 },
 "nbformat": 4,
 "nbformat_minor": 4
}
